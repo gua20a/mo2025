{
  "nbformat": 4,
  "nbformat_minor": 0,
  "metadata": {
    "colab": {
      "provenance": []
    },
    "kernelspec": {
      "name": "python3",
      "display_name": "Python 3"
    },
    "language_info": {
      "name": "python"
    }
  },
  "cells": [
    {
      "cell_type": "markdown",
      "source": [
        "# 01 Основы языка Python\n",
        "\n",
        "Рассмотрим принципы работы с языком, арифметические операции, вывод на экран."
      ],
      "metadata": {
        "id": "UmwDdclJn3cu"
      }
    },
    {
      "cell_type": "markdown",
      "source": [
        "# 1. Очень простые «программы»\n",
        "## 1.1 Запуск Python из командной строки\n",
        "Чтобы выполнить фрагменты кода, мы можем запустить Python из командной строки. В этом блокноте Jupyter мы собираемся смоделировать это. Вы можете вводить команды в поля и выполнять их.\n",
        "В поле введите:\n",
        "\n",
        "`print('Hello, World')`\n",
        "\n",
        "Затем нажмите `<shift> + <return>`, чтобы выполнить команду.\n"
      ],
      "metadata": {
        "id": "wgpOvqwkoL5e"
      }
    },
    {
      "cell_type": "code",
      "source": [
        "print('Hello, World')"
      ],
      "metadata": {
        "id": "z0wbzCSmpYvy",
        "colab": {
          "base_uri": "https://localhost:8080/"
        },
        "outputId": "161f0f8a-f227-4dfc-e9fa-21c4b1610fd5"
      },
      "execution_count": 1,
      "outputs": [
        {
          "output_type": "stream",
          "name": "stdout",
          "text": [
            "Hello, World\n"
          ]
        }
      ]
    },
    {
      "cell_type": "markdown",
      "source": [
        "Что случилось?\n",
        "\n",
        "Вы только что создали программу, которая печатает слова «Hello, World». Среда Python, в которой вы находитесь, немедленно компилирует все, что вы ввели. Это называется интерпретатор языка."
      ],
      "metadata": {
        "id": "pVvtH_sipaLe"
      }
    },
    {
      "cell_type": "markdown",
      "source": [
        "## 1.2 Математика в Python\n",
        "Наберите в ячейке\n",
        "`1 + 1`\n",
        "и выполните код. (см. п. 1.1.)"
      ],
      "metadata": {
        "id": "n2foxPN2pwr0"
      }
    },
    {
      "cell_type": "code",
      "source": [
        "1 + 1"
      ],
      "metadata": {
        "id": "qb6kPz8Ap6BI",
        "colab": {
          "base_uri": "https://localhost:8080/"
        },
        "outputId": "ae0e94ad-4c1d-4ea4-e8b8-b8996c210c07"
      },
      "execution_count": 2,
      "outputs": [
        {
          "output_type": "execute_result",
          "data": {
            "text/plain": [
              "2"
            ]
          },
          "metadata": {},
          "execution_count": 2
        }
      ]
    },
    {
      "cell_type": "markdown",
      "source": [
        "Теперь введите\n",
        "\n",
        "`20 + 80`\n",
        "\n",
        "выполните код."
      ],
      "metadata": {
        "id": "yBbIQd6tp-HV"
      }
    },
    {
      "cell_type": "code",
      "source": [
        "20 + 80"
      ],
      "metadata": {
        "id": "3zaVgKUVqD_H",
        "colab": {
          "base_uri": "https://localhost:8080/"
        },
        "outputId": "13870ef9-ea31-4130-b31d-adff63c70d16"
      },
      "execution_count": 1,
      "outputs": [
        {
          "output_type": "execute_result",
          "data": {
            "text/plain": [
              "100"
            ]
          },
          "metadata": {},
          "execution_count": 1
        }
      ]
    },
    {
      "cell_type": "markdown",
      "source": [
        "Попробуйте и другие операции\n",
        "\n",
        "`+` сложение\n",
        "\n",
        "`-` вычитание\n",
        "\n",
        "`*` умножение\n",
        "\n",
        "`/` деление\n"
      ],
      "metadata": {
        "id": "LIIUHqIVqKOk"
      }
    },
    {
      "cell_type": "code",
      "source": [
        "20 - 80"
      ],
      "metadata": {
        "id": "OfJF_qwvqaGk",
        "colab": {
          "base_uri": "https://localhost:8080/"
        },
        "outputId": "f60034e9-ec0e-48a7-c952-94eea478b4fe"
      },
      "execution_count": 2,
      "outputs": [
        {
          "output_type": "execute_result",
          "data": {
            "text/plain": [
              "-60"
            ]
          },
          "metadata": {},
          "execution_count": 2
        }
      ]
    },
    {
      "cell_type": "markdown",
      "source": [
        "Существует операция возведения в степень: $5^2 = $ `5 ** 2`. Попробуйте вычислить в строке ниже."
      ],
      "metadata": {
        "id": "tN5dNWDqqdJk"
      }
    },
    {
      "cell_type": "code",
      "source": [
        "5 ** 2"
      ],
      "metadata": {
        "id": "6ebTTVCGsNBc",
        "colab": {
          "base_uri": "https://localhost:8080/"
        },
        "outputId": "aa92da0c-994b-4ac2-c0bc-d51c6827538a"
      },
      "execution_count": 3,
      "outputs": [
        {
          "output_type": "execute_result",
          "data": {
            "text/plain": [
              "25"
            ]
          },
          "metadata": {},
          "execution_count": 3
        }
      ]
    },
    {
      "cell_type": "markdown",
      "source": [
        "Операции деления с остатком:\n",
        "\n",
        "// - целая часть от деления\n",
        "\n",
        "% - остаток от деления\n",
        "\n",
        "Посчитайте `7//3`, `11%4`"
      ],
      "metadata": {
        "id": "vGRu1tkXsRjs"
      }
    },
    {
      "cell_type": "code",
      "source": [
        "11%4"
      ],
      "metadata": {
        "id": "bkanXxZEshbg",
        "colab": {
          "base_uri": "https://localhost:8080/"
        },
        "outputId": "fc0ae62b-12f7-412f-9589-e57d9fef5c41"
      },
      "execution_count": 5,
      "outputs": [
        {
          "output_type": "execute_result",
          "data": {
            "text/plain": [
              "3"
            ]
          },
          "metadata": {},
          "execution_count": 5
        }
      ]
    },
    {
      "cell_type": "markdown",
      "source": [
        "## 1.3 print - вывод на экран\n",
        "\n",
        "Рассмотрим синтаксис этой функции. Самый простой пример:\n",
        "\n",
        "`print()`\n",
        "\n",
        "Даже если функция не получает никаких аргументов, все равно необходимо вставлять после названия пустые скобки, что значит для интерпретатора выполнить функцию, а не просто ссылаться на нее.\n",
        "\n",
        "В результате этого будет выведен неотображаемый символ пустой строки, она появиться на экране, не нужно путать это с пустой строкой, в которой вообще нет никаких символов.\n",
        "\n",
        "Но чаще всего нужно передать какое-то сообщение пользователю, к примеру:\n",
        "\n",
        "`print('Your message here')`"
      ],
      "metadata": {
        "id": "weOILto5szgr"
      }
    },
    {
      "cell_type": "markdown",
      "source": [
        "Следующий пример – вывод строкового значения из переменной:\n",
        "\n",
        "`message = 'Hello world'`\n",
        "\n",
        "`print(message)`\n",
        "\n"
      ],
      "metadata": {
        "id": "sqZYUcNPttGS"
      }
    },
    {
      "cell_type": "code",
      "source": [
        "message = 'Hello world'\n",
        "\n",
        "print(message)"
      ],
      "metadata": {
        "id": "vbv8gWj4tz0c",
        "colab": {
          "base_uri": "https://localhost:8080/"
        },
        "outputId": "bb26f3ed-82fd-44ca-d43a-0b5bab320887"
      },
      "execution_count": 6,
      "outputs": [
        {
          "output_type": "stream",
          "name": "stdout",
          "text": [
            "Hello world\n"
          ]
        }
      ]
    },
    {
      "cell_type": "markdown",
      "source": [
        "Выведем разные типы данных:\n",
        "\n",
        "\n",
        "```\n",
        "print('one', 'two', 'three')  # str\n",
        "\n",
        "print(42)  # int\n",
        "\n",
        "print(3.14)  # float\n",
        "\n",
        "print(True)  # bool\n",
        "\n",
        "print([1, 2, 3])  # list\n",
        "\n",
        "print({'red', 'green', 'blue'})  # set\n",
        "\n",
        "print({'name': 'Alice', 'age': 42})  # dict\n",
        "\n",
        "print((1, 2, 3))  # tuple\n",
        "```\n",
        "\n"
      ],
      "metadata": {
        "id": "gT_yQuUst0zq"
      }
    },
    {
      "cell_type": "code",
      "source": [
        "print('one', 'two', 'three')  # str\n",
        "\n",
        "print(42)  # int\n",
        "\n",
        "print(3.14)  # float\n",
        "\n",
        "print(True)  # bool\n",
        "\n",
        "print([1, 2, 3])  # list\n",
        "\n",
        "print({'red', 'green', 'blue'})  # set\n",
        "\n",
        "print({'name': 'Alice', 'age': 42})  # dict\n",
        "\n",
        "print((1, 2, 3))  # tuple"
      ],
      "metadata": {
        "id": "VB1sC6YRuFJS",
        "colab": {
          "base_uri": "https://localhost:8080/"
        },
        "outputId": "e5314bb0-16f2-4d22-c415-efd6534e845b"
      },
      "execution_count": 9,
      "outputs": [
        {
          "output_type": "stream",
          "name": "stdout",
          "text": [
            "one two three\n",
            "42\n",
            "3.14\n",
            "True\n",
            "[1, 2, 3]\n",
            "{'green', 'red', 'blue'}\n",
            "{'name': 'Alice', 'age': 42}\n",
            "(1, 2, 3)\n"
          ]
        }
      ]
    },
    {
      "cell_type": "markdown",
      "source": [
        "Вы также можете распечатать переменные, просто разделив их запятыми\n",
        "```\n",
        "name = \"Аделаида\"\n",
        "print(\"Привет\", name, \"как дела?\")\n",
        "```\n"
      ],
      "metadata": {
        "id": "7YsoJe3suU9r"
      }
    },
    {
      "cell_type": "code",
      "source": [],
      "metadata": {
        "id": "k76loudFucn6"
      },
      "execution_count": null,
      "outputs": []
    },
    {
      "cell_type": "markdown",
      "source": [
        "#1.4 Комментарии\n",
        "\n",
        "Комментарий это строка кода, которая не выполняется. Служит для разных пояснений. Выполните следующий код:\n",
        "\n",
        "`# I am a comment. Fear my wrath!`"
      ],
      "metadata": {
        "id": "kjmRYTQNuivr"
      }
    },
    {
      "cell_type": "code",
      "source": [
        "# I am a comment. Fear my wrath!"
      ],
      "metadata": {
        "id": "C9EWkEs5u1tv"
      },
      "execution_count": 10,
      "outputs": []
    },
    {
      "cell_type": "markdown",
      "source": [
        "Комментарий — это фрагмент кода, который не запускается. В Python вы добавляете комментарий, помещая перед ним #. # комментирует все, что находится после него в строке, и ничего перед ним. Попробуйте:\n",
        "\n",
        "`print(\"food is very nice\") #eat me`"
      ],
      "metadata": {
        "id": "G_A2uNGVu6Br"
      }
    },
    {
      "cell_type": "code",
      "source": [
        "print(\"food is very nice\") #eat me"
      ],
      "metadata": {
        "id": "vCMZWgm1vCzd",
        "colab": {
          "base_uri": "https://localhost:8080/"
        },
        "outputId": "55fe00df-8ad0-43af-97c3-42ba2b51f53b"
      },
      "execution_count": 11,
      "outputs": [
        {
          "output_type": "stream",
          "name": "stdout",
          "text": [
            "food is very nice\n"
          ]
        }
      ]
    },
    {
      "cell_type": "markdown",
      "source": [
        "# 1.5 Приоритет операций\n",
        "\n",
        "Помните ту штуку, которую учили на уроках математики, под названием \"порядок действий\"? Что ж, это применимо и к Python. Вот оно, если вам нужно напомнить:\n",
        "\n",
        "1. Круглые скобки()\n",
        "2. Возведение в степень **\n",
        "3. Умножение *, деление / и остаток %\n",
        "4. Сложение + и вычитание -\n",
        "\n",
        "Вот несколько примеров, которые вы можете попробовать:\n",
        "```\n",
        "1 + 2 * 3\n",
        "(1 + 2) * 3\n",
        "```"
      ],
      "metadata": {
        "id": "_vftrmAdxaQS"
      }
    },
    {
      "cell_type": "code",
      "source": [
        "(1 + 2) * 3"
      ],
      "metadata": {
        "id": "s8ZhSbiKxwDa",
        "colab": {
          "base_uri": "https://localhost:8080/"
        },
        "outputId": "cd455a7d-6cfe-4f97-82cd-ed666fc84371"
      },
      "execution_count": 14,
      "outputs": [
        {
          "output_type": "execute_result",
          "data": {
            "text/plain": [
              "9"
            ]
          },
          "metadata": {},
          "execution_count": 14
        }
      ]
    },
    {
      "cell_type": "markdown",
      "source": [
        "# Задание 1\n",
        "\n",
        "Используя оператор print выведите на экран небольшой рассказ о себе. Должно быть использовано не менее 8 операторов print.\n",
        "\n",
        "Пример:\n",
        "\n",
        "```\n",
        "print('Привет всем! Меня зовут Аристотель.')\n",
        "print(\"Я родился в городе Стагире, греческой колонии в Халкидиках, недалеко от Афонской горы, между июлем и октябрём в первый год \",99,\" олимпиады.\" )\n",
        "print('Я люблю всякие науки, например философию.')\n",
        "print(\"Долгими зиминими вечерами я обычно размышляю о физике.\", \"А потом о метафизике.\")\n",
        "```"
      ],
      "metadata": {
        "id": "mC6vwG0Bvckz"
      }
    },
    {
      "cell_type": "code",
      "source": [
        "print('Привет всем! Меня зовут Арина.')\n",
        "print(\"Я родился в городе Волгоград, но уже после 4 класса переехала с родителями в Москву.\" )\n",
        "print('В бакалавриате я училась на экономическом факультете\".')\n",
        "print(\"У меня есть кошка Мася.\", \"Но больше я люблю собак.\")\n",
        "print('В детстве я занималась танцами\".')\n",
        "print(\"Мое хобби - сноуборд.\")\n",
        "print('Моя любимая еда - рыба.')\n",
        "print(\"Я люблю путешествовать.\")"
      ],
      "metadata": {
        "id": "HcESMxCWw3P9",
        "colab": {
          "base_uri": "https://localhost:8080/"
        },
        "outputId": "c1d02bc6-43a4-480a-f7f8-f64022247bdc"
      },
      "execution_count": 15,
      "outputs": [
        {
          "output_type": "stream",
          "name": "stdout",
          "text": [
            "Привет всем! Меня зовут Арина.\n",
            "Я родился в городе Волгоград, но уже после 4 класса переехала с родителями в Москву.\n",
            "В бакалавриате я училась на экономическом факультете\".\n",
            "У меня есть кошка Мася. Но больше я люблю собак.\n",
            "В детстве я занималась танцами\".\n",
            "Мое хобби - сноуборд.\n",
            "Моя любимая еда - рыба.\n",
            "Я люблю путешествовать.\n"
          ]
        }
      ]
    },
    {
      "cell_type": "markdown",
      "source": [
        "# Задание 2\n",
        "\n",
        "Карандаш стоит 18 рублей 45 копеек за штуку. Покупатель дал кассиру 500 рублей и хочет купить 8 карандашей. Какую сдачу он должен получить? Ответ дайте в рублях.\n"
      ],
      "metadata": {
        "id": "znJt3O_Qw7iU"
      }
    },
    {
      "cell_type": "code",
      "source": [
        "price_per_pencil = 18 + 45 / 100\n",
        "\n",
        "quantity = 8\n",
        "\n",
        "total_cost = price_per_pencil * quantity\n",
        "\n",
        "amount_given = 500\n",
        "\n",
        "change = amount_given - total_cost\n",
        "\n",
        "print(change)"
      ],
      "metadata": {
        "id": "9l0cDUqrz6zt",
        "colab": {
          "base_uri": "https://localhost:8080/"
        },
        "outputId": "b78019c9-0996-4dbb-ad05-7ee9a06adc7a"
      },
      "execution_count": 16,
      "outputs": [
        {
          "output_type": "stream",
          "name": "stdout",
          "text": [
            "352.4\n"
          ]
        }
      ]
    },
    {
      "cell_type": "markdown",
      "source": [
        "# Задание 3\n",
        "\n",
        "Ребенок в день съедает два творожка. Творожок продается в упаковках по пять штук. Какое наименьшее число упаковок надо купить, чтобы ребенку хватило на две недели?"
      ],
      "metadata": {
        "id": "zY4uh9scz7SE"
      }
    },
    {
      "cell_type": "code",
      "source": [
        "# Количество творожков, которые ребенок съедает в день\n",
        "puddings_per_day = 2\n",
        "\n",
        "# Количество дней в двух неделях\n",
        "days = 14\n",
        "\n",
        "# Общее количество творожков, необходимых на две недели\n",
        "total_puddings_needed = puddings_per_day * days\n",
        "\n",
        "# Количество творожков в одной упаковке\n",
        "puddings_per_package = 5\n",
        "\n",
        "# Вычисляем необходимое количество упаковок\n",
        "packages_needed = total_puddings_needed // puddings_per_package\n",
        "\n",
        "# Округляем вверх\n",
        "packages_needed1 = packages_needed + 1\n",
        "\n",
        "print(packages_needed1)"
      ],
      "metadata": {
        "id": "AwZoZRdG0Biv",
        "colab": {
          "base_uri": "https://localhost:8080/"
        },
        "outputId": "b8307feb-e040-41a0-ed9e-90ff6949a99c"
      },
      "execution_count": 23,
      "outputs": [
        {
          "output_type": "stream",
          "name": "stdout",
          "text": [
            "6\n"
          ]
        }
      ]
    },
    {
      "cell_type": "markdown",
      "source": [
        "# Задание 4\n",
        "\n",
        "Килограмм картошки 32 рубля. У Олега есть 1000 р, из этой суммы он 640 р должен положить на телефон, а на остальные деньги он купил картошку. Сколько килограмм купил Олег, если он получил сдачу 8 рублей?"
      ],
      "metadata": {
        "id": "AdFd5gbK0CeE"
      }
    },
    {
      "cell_type": "code",
      "source": [
        "total_money = 1000  # Всего денег у Олега\n",
        "phone_cost = 640    # Сумма, которую он положит на телефон\n",
        "change = 8          # Сдача, которую он получил\n",
        "potato_price = 32   # Цена за килограмм картошки\n",
        "\n",
        "# Рассчитываем оставшиеся деньги после того, как Олег положил деньги на телефон и получил сдачу\n",
        "remaining_money = total_money - phone_cost + change\n",
        "\n",
        "# Рассчитываем, сколько килограммов картошки он может купить\n",
        "potatoes_weight = remaining_money // potato_price\n",
        "\n",
        "# Выводим результат\n",
        "print(potatoes_weight)"
      ],
      "metadata": {
        "id": "23ot9WQT0Jc_",
        "colab": {
          "base_uri": "https://localhost:8080/"
        },
        "outputId": "73c7ee5f-b9fa-41bf-e7db-6c6ed47f76f2"
      },
      "execution_count": 24,
      "outputs": [
        {
          "output_type": "stream",
          "name": "stdout",
          "text": [
            "11\n"
          ]
        }
      ]
    }
  ]
}